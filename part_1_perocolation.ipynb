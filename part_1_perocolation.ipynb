{
 "cells": [
  {
   "cell_type": "markdown",
   "metadata": {},
   "source": [
    "# Part I: Percolation\n",
    "---\n",
    "## Task Allocation\n",
    "- Sihan Ren\n",
    "\n",
    "## Description\n",
    "We use Monte Carlo simulation to estimate percolation threshold. The task will consist of the following parts:\n",
    "1. Simulation of percolation process\n",
    "2. Monte Carlo simulation\n",
    "3. Comparison\n",
    "\n",
    "\n",
    "## 1.Simulation of percolation process\n",
    "Under the guidance of the project specification, we construct an $n\\times n$ grid to simulate percolation. At each step, we let a random site open and check once to see if the grid percolate. At last, use the fraction of sites that are opened when percolates as the probability $p$, which represents the probability that a site is open in the original problem. Our code is implemented as follows:\n",
    "- Using a $n\\times n$ np_array `_grid` to represent the grid, if `_grid[i][j]==0` the $(i,j)$ site is blocked, otherwise `_grid[i][j]==1` means $(i,j)$ site is opened.\n",
    "- Given $n$, the `PercolationGrid` class is initialized. We first initialize an $n\\times n$ np_array with all zero, and then we'll record the coordinates of each site using a list `block_list` and shuffle it.\n",
    "- When we need to open a site, just pop the first item of `block_list`, then set the value of coorsponding site in the grid to one. At the same time, we'll update `open_num` to keep track of how many sites are currently opened. \n",
    "- To check if the grid has percolated, we adopt **BFS** algorithm. First we add a row to the top of the grid so that they all have the value 1, i.e., accessible. We then run the BFS algorithm starting from the added row. If the element in row n is accessed during the BFS process, then the grid is percolate.\n",
    "- By calling `make_percolate()`, we are opening the site until it reaches percolate. It will returns the number of open sites.\n"
   ]
  },
  {
   "cell_type": "code",
   "execution_count": 60,
   "metadata": {},
   "outputs": [],
   "source": [
    "import numpy as np\n",
    "import matplotlib.pyplot as plt\n",
    "from collections import deque\n",
    "import random\n",
    "from tqdm import tqdm\n",
    "\n",
    "class PercolationGrid():\n",
    "    def __init__(self, size):\n",
    "        self.len = size\n",
    "        self._grid = np.zeros((size, size))\n",
    "        self.open_num = 0\n",
    "        self.percolates = False\n",
    "        \n",
    "        block_list = [(i, j) for i in range(size) for j in range(size)]\n",
    "        random.shuffle(block_list)\n",
    "        self._block_list = block_list\n",
    "        # print(block_list)     \n",
    "        \n",
    "    def open_block(self):\n",
    "        if len(self._block_list)==0:\n",
    "            raise Exception(\"No more blocks to open\")\n",
    "        i, j = self._block_list.pop()\n",
    "        self._grid[i, j] = 1\n",
    "        self.open_num += 1\n",
    "    \n",
    "    def BFS(self,grid,n,vis=False):\n",
    "        # In the grid, 1 means open, 0 means blocked, 2 means visited\n",
    "        \n",
    "        directions = [(0, 1), (1, 0), (0, -1), (-1, 0)]\n",
    "\n",
    "        # add a new row on the top, we start from this row\n",
    "        grid = np.vstack([np.full(n, 2), grid])\n",
    "        queue = deque([(0, i) for i in range(n)])\n",
    "\n",
    "        bound_r = n+1\n",
    "        bound_c = n\n",
    "\n",
    "        while queue:\n",
    "            r, c = queue.popleft()\n",
    "            if r == n and not vis:\n",
    "                return True, grid\n",
    "            for dr, dc in directions:\n",
    "                nr, nc = r + dr, c + dc\n",
    "                if 0 <= nr < bound_r and 0 <= nc < bound_c and grid[nr, nc] == 1:\n",
    "                    queue.append((nr, nc))\n",
    "                    grid[nr, nc] = 2\n",
    "        return False, grid\n",
    "    \n",
    "    def check_percolates(self):\n",
    "        self.percolates,_ = self.BFS(np.copy(self._grid), self.len)\n",
    "        return self.percolates\n",
    "    \n",
    "    def visualize(self, ax):\n",
    "        vis_grid = np.copy(self._grid)\n",
    "        _, vis_grid = self.BFS(vis_grid, self.len, vis=True)\n",
    "        vis_grid = vis_grid[1:, :]\n",
    "        \n",
    "        color_map = {1: 'white', 0: 'black', 2: '#ADD8E6'}\n",
    "        n = self.len\n",
    "\n",
    "        ax.set_xlim(0, n)\n",
    "        ax.set_ylim(0, n)\n",
    "        ax.set_xticks(range(n+1))\n",
    "        ax.set_yticks(range(n+1))\n",
    "    \n",
    "        ax.set_xticklabels([])\n",
    "        ax.set_yticklabels([])\n",
    "        ax.grid(True)\n",
    "\n",
    "        for x in range(n):\n",
    "            for y in range(n):\n",
    "                ax.add_patch(plt.Rectangle((y, n-x-1), 1, 1, color=color_map[vis_grid[x, y]]))\n",
    "        return ax\n",
    "    \n",
    "    def make_percolate(self):\n",
    "        while not self.check_percolates():\n",
    "            self.open_block()\n",
    "        return self.open_num"
   ]
  },
  {
   "cell_type": "markdown",
   "metadata": {},
   "source": [
    "- Here is an example of the percolation process with $n=20$:"
   ]
  },
  {
   "cell_type": "code",
   "execution_count": 61,
   "metadata": {},
   "outputs": [
    {
     "data": {
      "image/png": "[encoded data removed]",
      "text/plain": [
       "<Figure size 2000x500 with 4 Axes>"
      ]
     },
     "metadata": {},
     "output_type": "display_data"
    }
   ],
   "source": [
    "example = PercolationGrid(20)\n",
    "\n",
    "fig, axs = plt.subplots(1, 4, figsize=(20, 5))\n",
    "\n",
    "for i in range(4):\n",
    "    for k in range(50):\n",
    "        if example.check_percolates(): break\n",
    "        example.open_block()\n",
    "    if i == 3:\n",
    "        example.make_percolate()\n",
    "    example.visualize(axs[i])\n",
    "    axs[i].set_title(f'Open sites: {example.open_num}')\n",
    "\n",
    "plt.show()\n"
   ]
  },
  {
   "cell_type": "markdown",
   "metadata": {},
   "source": [
    "## 2.Monte Carlo simulation\n",
    "In this part, we will conduct simulation with n=20,50, and 100, respectively. Let $x_t$ be the fraction of open sites in simulation $t$ and $s_t$ denote the number of opened sites, then we use sample mean to estimate the percolation threshold. We have\n",
    "$$\n",
    "x_t = \\frac{s_t}{n^2}\n",
    "$$\n",
    "\n",
    "$$\n",
    "p^* \\approx \\bar{x}=\\frac{x_1+x_2+\\ldots+x_T}{T}=\\frac{s_1+s_2+\\ldots+s_T}{n^2 T}\n",
    "$$"
   ]
  },
  {
   "cell_type": "code",
   "execution_count": null,
   "metadata": {},
   "outputs": [],
   "source": [
    "T = 1000\n",
    "\n",
    "def MC_Simulation(grid_len, times):\n",
    "    '''\n",
    "    grid_len: The length of the grid. The grid will be grid_len*grid_len\n",
    "    times: The number of simulations: the T in x_bar=1/T*sum_{t=1}^T x_t\n",
    "    '''\n",
    "    open_num = 0\n",
    "    for i in tqdm(range(times)):\n",
    "        grid = PercolationGrid(grid_len)\n",
    "        open_num += grid.make_percolate()\n",
    "    return (open_num/grid_len**2) / times\n",
    "    \n",
    "for n in [20, 50, 100]:\n",
    "    print(f'Grid size: {n}-by-{n}')\n",
    "    print(f'Estimated threshold: {MC_Simulation(n, T)}')\n",
    "    print('-------------------------')"
   ]
  },
  {
   "cell_type": "markdown",
   "metadata": {},
   "source": [
    "## 3.Comparison\n",
    "In this section, we will compare the effect of the number of simulation on the results ( i.e. $T$ ). We will compare the results obtained with the number of simulation from 1 to 5000  (Because we found that after about 5,000 simulations the change was very small). And according to project specification, we have a prior that $p^* \\approx 0.593$. Thus for each size of grid, we will show: for $t\\in(0,5000]$\n",
    "- The results of their estimation after t steps of simulations $\\hat{p}^*_t$. \n",
    "- The gap $l(t)$ between their estimated results and $p^*=0.593$ after t steps of experiment. We will use $l(t)=|\\hat{p}^*_t-p^*|$"
   ]
  },
  {
   "cell_type": "code",
   "execution_count": null,
   "metadata": {},
   "outputs": [],
   "source": [
    "TT = 5000\n",
    "p_prior = 0.593\n",
    "\n",
    "def MC_Simulation2(grid_len, times):\n",
    "    print(\"n = \", grid_len)\n",
    "    open_num = 0\n",
    "    estimated_p_t_values = []\n",
    "    for t in tqdm(range(1,times+1)):\n",
    "        grid = PercolationGrid(grid_len)\n",
    "        grid.make_percolate()\n",
    "        open_num += grid.open_num\n",
    "        estimated_p_t = (open_num/grid_len**2) / t\n",
    "        estimated_p_t_values.append(estimated_p_t)\n",
    "    \n",
    "    plt.figure(figsize=(20, 5))\n",
    "    \n",
    "    plt.subplot(1,2,1)\n",
    "    plt.plot(range(times), estimated_p_t_values)\n",
    "    plt.axhline(y=p_prior, color='r', linestyle='--')\n",
    "    plt.xlabel('t')\n",
    "    plt.ylabel('estimated_p')\n",
    "    \n",
    "\n",
    "    \n",
    "    plt.subplot(1,2,2)\n",
    "    plt.plot(range(times), [abs(p - p_prior) for p in estimated_p_t_values])\n",
    "    plt.xlabel('t')\n",
    "    plt.ylabel('|estimated_p - p_prior|')\n",
    "    plt.show()\n",
    "\n",
    "     \n",
    "for n in [20, 50, 100]:\n",
    "    MC_Simulation2(n, TT)\n",
    "    print('-------------------------')"
   ]
  }
 ],
 "metadata": {
  "kernelspec": {
   "display_name": "base",
   "language": "python",
   "name": "python3"
  },
  "language_info": {
   "codemirror_mode": {
    "name": "ipython",
    "version": 3
   },
   "file_extension": ".py",
   "mimetype": "text/x-python",
   "name": "python",
   "nbconvert_exporter": "python",
   "pygments_lexer": "ipython3",
   "version": "3.11.4"
  }
 },
 "nbformat": 4,
 "nbformat_minor": 2
}
