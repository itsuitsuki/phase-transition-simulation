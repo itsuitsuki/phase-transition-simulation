{
 "cells": [
  {
   "cell_type": "markdown",
   "metadata": {},
   "source": [
    "# Part I: Percolation\n",
    "---\n",
    "## Task Allocation\n",
    "- Sihan Ren\n",
    "\n",
    "## Description\n",
    "TBC\n",
    "\n",
    "## Code & Simulation"
   ]
  },
  {
   "cell_type": "code",
   "execution_count": 101,
   "metadata": {},
   "outputs": [
    {
     "name": "stdout",
     "output_type": "stream",
     "text": [
      "111\n"
     ]
    },
    {
     "data": {
      "image/png": "[encoded data removed]",
      "text/plain": [
       "<Figure size 640x480 with 1 Axes>"
      ]
     },
     "metadata": {},
     "output_type": "display_data"
    }
   ],
   "source": [
    "import numpy as np\n",
    "import matplotlib.pyplot as plt\n",
    "from collections import deque\n",
    "import random\n",
    "\n",
    "class PercolationGrid():\n",
    "    def __init__(self, size):\n",
    "        self.len = size\n",
    "        self._grid = np.zeros((size, size))\n",
    "        self.open = 0\n",
    "        self.percolates = False\n",
    "        \n",
    "        block_list = [(i, j) for i in range(size) for j in range(size)]\n",
    "        random.shuffle(block_list)\n",
    "        self._block_list = block_list\n",
    "        # print(block_list)     \n",
    "        \n",
    "        \n",
    "    \n",
    "    def open_block(self):\n",
    "        if len(self._block_list)==0:\n",
    "            raise Exception(\"No more blocks to open\")\n",
    "        i, j = self._block_list.pop()\n",
    "        self._grid[i, j] = 1\n",
    "        self.open += 1\n",
    "    \n",
    "    def BFS(self,grid,n): #Not optimized\n",
    "        # In the grid, 1 means open, 0 means blocked, 2 means visited\n",
    "        \n",
    "        directions = [(0, 1), (1, 0), (0, -1), (-1, 0)]  # The direction we can move\n",
    "\n",
    "        # add a new row on the top, we start from this row\n",
    "        grid = np.vstack([np.full(n, 2), grid])\n",
    "        queue = deque([(0, i) for i in range(n)])\n",
    "\n",
    "        bound_r = n+1\n",
    "        bound_c = n\n",
    "\n",
    "        while queue:\n",
    "            r, c = queue.popleft()\n",
    "            if r == n:\n",
    "                return True, grid\n",
    "            for dr, dc in directions:\n",
    "                nr, nc = r + dr, c + dc\n",
    "                if 0 <= nr < bound_r and 0 <= nc < bound_c and grid[nr, nc] == 1:\n",
    "                    queue.append((nr, nc))\n",
    "                    grid[nr, nc] = 2\n",
    "        return False, grid\n",
    "    \n",
    "    def check_percolates(self):\n",
    "        self.percolates,_ = self.BFS(np.copy(self._grid), self.len)\n",
    "        return self.percolates\n",
    "    \n",
    "    def visualize(self):\n",
    "        vis_grid = np.copy(self._grid)\n",
    "        _, vis_grid = self.BFS(vis_grid, self.len)\n",
    "        vis_grid = vis_grid[1:, :]\n",
    "        \n",
    "        color_map = {1: 'white', 0: 'black', 2: 'green'}\n",
    "        n = self.len\n",
    "\n",
    "        fig, ax = plt.subplots()\n",
    "        ax.set_xlim(0, n)\n",
    "        ax.set_ylim(0, n)\n",
    "        ax.set_xticks(range(n + 1))\n",
    "        ax.set_yticks(range(n + 1))\n",
    "        ax.grid(True)\n",
    "\n",
    "        for x in range(n):\n",
    "            for y in range(n):\n",
    "                ax.add_patch(plt.Rectangle((y, n-x-1), 1, 1, color=color_map[vis_grid[x, y]]))\n",
    "\n",
    "    plt.show()\n",
    "        \n",
    "while True:\n",
    "    test_1 = PercolationGrid(3)\n",
    "    test_1.open_block()\n",
    "    # test_1.visualize()\n",
    "    test_1.open_block()\n",
    "    # test_1.visualize()\n",
    "    test_1.open_block()\n",
    "    # test_1.visualize()\n",
    "    if (test_1.check_percolates()):\n",
    "        print(111)\n",
    "        test_1.visualize()\n",
    "        break\n"
   ]
  }
 ],
 "metadata": {
  "kernelspec": {
   "display_name": "base",
   "language": "python",
   "name": "python3"
  },
  "language_info": {
   "codemirror_mode": {
    "name": "ipython",
    "version": 3
   },
   "file_extension": ".py",
   "mimetype": "text/x-python",
   "name": "python",
   "nbconvert_exporter": "python",
   "pygments_lexer": "ipython3",
   "version": "3.11.4"
  }
 },
 "nbformat": 4,
 "nbformat_minor": 2
}
