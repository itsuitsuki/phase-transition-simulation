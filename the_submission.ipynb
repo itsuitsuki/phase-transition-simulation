{
 "cells": [
  {
   "cell_type": "code",
   "execution_count": null,
   "metadata": {},
   "outputs": [],
   "source": []
  },
  {
   "cell_type": "markdown",
   "metadata": {},
   "source": [
    "# References\n",
    "## GPT\n",
    "+ Helped to complete the code of Ising model (10%)\n",
    "+ \n",
    "## Resources from Web or papers\n",
    "+ [1] [Ising model](https://en.wikipedia.org/wiki/Ising_model)\n",
    "+ [2] [Markov Random Field](https://en.wikipedia.org/wiki/Markov_random_field)\n",
    "+ [3] [Gibbs Sampling](https://en.wikipedia.org/wiki/Gibbs_sampling)\n",
    "## Python External Libraries\n",
    "+ [1] [numpy](https://numpy.org/)\n",
    "+ [2] [matplotlib](https://matplotlib.org/)\n",
    "+ [3] [tqdm](https://en.wikipedia.org/wiki/Markov_random_field)\n",
    "+ "
   ]
  }
 ],
 "metadata": {
  "language_info": {
   "name": "python"
  }
 },
 "nbformat": 4,
 "nbformat_minor": 2
}
